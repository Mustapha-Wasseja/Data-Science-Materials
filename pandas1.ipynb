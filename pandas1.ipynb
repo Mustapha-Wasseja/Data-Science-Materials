{
 "cells": [
  {
   "cell_type": "markdown",
   "metadata": {},
   "source": [
    "# Volume 3: Pandas 1 (Introduction)\n",
    "    <Name>\n",
    "    <Class>\n",
    "    <Date>"
   ]
  },
  {
   "cell_type": "code",
   "execution_count": null,
   "metadata": {},
   "outputs": [],
   "source": [
    "import numpy as np\n",
    "import pandas as pd\n",
    "from matplotlib import pyplot as plt\n",
    "\n",
    "%matplotlib inline"
   ]
  },
  {
   "cell_type": "markdown",
   "metadata": {},
   "source": [
    "## Problem 1\n",
    "Read in the file *crime_data.csv* into a pandas object. The file contains data on types of crimes in the U.S. from 1960 to 2016. Set the index as the column *Year*.\n",
    "\n",
    "Create a new column 'Rate' which has the crime rate for each year. Use this table to answer the following questions:\n",
    "\n",
    "1) What is the mean crime rate? In what years was the crime rate above the mean?\n",
    "\n",
    "2) On average, using the mean, what is the least common crime?\n",
    "\n",
    "3) Identify two crimes which have close means. Do these two crimes have any kind of correlation from year to year? If so, what is this correlation?"
   ]
  },
  {
   "cell_type": "code",
   "execution_count": null,
   "metadata": {
    "collapsed": true
   },
   "outputs": [],
   "source": []
  },
  {
   "cell_type": "markdown",
   "metadata": {},
   "source": [
    "## Problem 2\n",
    "Answer the following questions using the pandas numerical methods. Support your answers with data from the file.\n",
    "\n",
    "1) In what year did each crime hit an all-time high in the U.S.? In what year did the majority of crimes hit an all-time high?\n",
    "\n",
    "2) Which decade had the greatest amount of total crime?\n",
    "\n",
    "3) During this decade, which crime was commited most, and what percent of the total crime was it?"
   ]
  },
  {
   "cell_type": "code",
   "execution_count": null,
   "metadata": {
    "collapsed": true
   },
   "outputs": [],
   "source": []
  },
  {
   "cell_type": "markdown",
   "metadata": {},
   "source": [
    "## Problem 3\n",
    "Using panda commands, find the crime rates of the years where Property crimes were less than 90% of the total crime and burglary crimes were more than 20% of the total crime or property crimes were less than 90% of the total crime while violent crimes were more than 12% of the total crime."
   ]
  },
  {
   "cell_type": "code",
   "execution_count": null,
   "metadata": {
    "collapsed": true
   },
   "outputs": [],
   "source": []
  },
  {
   "cell_type": "markdown",
   "metadata": {},
   "source": [
    "## Problem 4\n",
    "Read in the files *final_accidents2.pickle* and *final_drivers.pickle* using the function *read_pickle()*.  \n",
    "The accidents file contains data on various accidents that occurred in the U.S. and their causes.\n",
    "The drivers data has data on various tickets given to drivers, how many tickets given, and what the ticket is for.\n",
    "\n",
    "Create a dataframe containing case number, age, and fatalities using an inner join operation on the Case Number. In this dataframe, also include the speed column from each dataframe.\n",
    "Create a second dataframe using an outer join.\n",
    "\n",
    "Use these dataframe to answer the following questions. Make sure to support your claims with appropriate and presentable data.\n",
    "\n",
    "1. What is the most common kind of weather involved with accidents?\n",
    "\n",
    "2. How many accidents involved speeding?\n",
    "\n",
    "3. What is the most common type of speeding in accidents?\n",
    "\n",
    "4. Rounding to the nearest integer, what is the mean number of drunk drivers involved in each accident?\n",
    "\n",
    "5. What is the mean number of fatalities per accident each year?\n",
    "\n",
    "6. What month has the most fatalities each year?"
   ]
  },
  {
   "cell_type": "code",
   "execution_count": null,
   "metadata": {
    "collapsed": true
   },
   "outputs": [],
   "source": []
  }
 ],
 "metadata": {
  "kernelspec": {
   "display_name": "Python 3",
   "language": "python",
   "name": "python3"
  },
  "language_info": {
   "codemirror_mode": {
    "name": "ipython",
    "version": 3
   },
   "file_extension": ".py",
   "mimetype": "text/x-python",
   "name": "python",
   "nbconvert_exporter": "python",
   "pygments_lexer": "ipython3",
   "version": "3.6.4"
  }
 },
 "nbformat": 4,
 "nbformat_minor": 2
}
