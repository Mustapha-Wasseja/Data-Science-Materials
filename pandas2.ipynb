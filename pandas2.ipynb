{
 "cells": [
  {
   "cell_type": "markdown",
   "metadata": {},
   "source": [
    "# Volume 3: Pandas 2 (Plotting)\n",
    "    <Name>\n",
    "    <Class>\n",
    "    <Date>"
   ]
  },
  {
   "cell_type": "code",
   "execution_count": null,
   "metadata": {},
   "outputs": [],
   "source": [
    "import numpy as np\n",
    "import pandas as pd\n",
    "from matplotlib import pyplot as plt\n",
    "%matplotlib inline"
   ]
  },
  {
   "cell_type": "markdown",
   "metadata": {
    "collapsed": true
   },
   "source": [
    "# Problem 1\n",
    "Create 3 visualizations for the data in *final_accidents2.pickle* and *final_drivers.pickle*. \n",
    "Make one of the visualizations a histogram and one visualization a scatter matrix.\n",
    "The visualizations should be well labeled and easy to understand.\n",
    "Include a short description of your plots."
   ]
  },
  {
   "cell_type": "code",
   "execution_count": null,
   "metadata": {},
   "outputs": [],
   "source": []
  },
  {
   "cell_type": "markdown",
   "metadata": {},
   "source": [
    "# Problem 2\n",
    "Using the accident data from the previous problem, identify if a trend exists between FATALS and the following variables:\n",
    "1. WEATHER\n",
    "2. DRINKING\n",
    "3. SP\n",
    "\n",
    "Support each claim with a clear, labeled visualization and a short description of how the visualization supports your claim."
   ]
  },
  {
   "cell_type": "code",
   "execution_count": null,
   "metadata": {},
   "outputs": [],
   "source": []
  },
  {
   "cell_type": "markdown",
   "metadata": {},
   "source": [
    "# Problem 3\n",
    "Using the same data, display a distributional visualization, and provide a brief description and analysis on the following distributions: \n",
    "\n",
    "1. The distribution of accidents across the United States\n",
    "2. The distribution of age in all accidents\n",
    "3. The distribution of fatalities by the hour which the accident occurs\n",
    "\n",
    "As usual, all plots should be labeled and easy to read."
   ]
  },
  {
   "cell_type": "code",
   "execution_count": null,
   "metadata": {},
   "outputs": [],
   "source": []
  },
  {
   "cell_type": "markdown",
   "metadata": {},
   "source": [
    "## Problem 4\n",
    "The *pydataset* module contains numerous data sets, each stored as a pandas DataFrame.\n",
    "Read data on road accident deaths in the United States using the data set *road* in the *pydataset* module.\n",
    "Using this data, answer the following questions:\n",
    "\n",
    "1. Does higher population density indicate higher fuel consumption?\n",
    "\n",
    "2. Does a correlation exist between number of drivers and number of deaths in a state?\n",
    "\n",
    "3. Does the temperature of a state in January affect its population density?\n",
    "\n",
    "Support each claim with a visualization and make sure the visualizations are clearly labelled and easy to understand.\n",
    "Include any citations provided by the data set.\n",
    "\n",
    "(Hint: Consider how outliers may be skewing the data.)"
   ]
  },
  {
   "cell_type": "code",
   "execution_count": null,
   "metadata": {},
   "outputs": [],
   "source": []
  },
  {
   "cell_type": "markdown",
   "metadata": {},
   "source": [
    "## Problem 5\n",
    "The file *new_york_crime_clean.csv* contains data on New York City crimes and felonies from 2000-2017 taken from https://www1.nyc.gov/site/nypd/stats/crime-statistics/historical.page.\n",
    "Use this data to answer the following questions and give visualizations supporting each claim:\n",
    "\n",
    "1. What are the most common and least common crimes?\n",
    "\n",
    "2. Does a trend exist between robbery and drug felonies? If so, what is the trend?\n",
    "\n",
    "3. Which crimes have had the largest distributions?\n",
    "\n",
    "Use a different style of visualization for each question. \n",
    "Make sure that each plot is well labelled and contains citations.\n",
    "\n",
    "(Hint: Use plt.axis('scaled') or plt.axis('square') to make sure x- and y-axis are the same.)"
   ]
  },
  {
   "cell_type": "code",
   "execution_count": null,
   "metadata": {},
   "outputs": [],
   "source": []
  }
 ],
 "metadata": {
  "kernelspec": {
   "display_name": "Python 3",
   "language": "python",
   "name": "python3"
  },
  "language_info": {
   "codemirror_mode": {
    "name": "ipython",
    "version": 3
   },
   "file_extension": ".py",
   "mimetype": "text/x-python",
   "name": "python",
   "nbconvert_exporter": "python",
   "pygments_lexer": "ipython3",
   "version": "3.6.4"
  }
 },
 "nbformat": 4,
 "nbformat_minor": 2
}
