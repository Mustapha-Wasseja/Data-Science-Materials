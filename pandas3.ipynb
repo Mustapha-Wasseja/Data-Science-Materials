{
 "cells": [
  {
   "cell_type": "markdown",
   "metadata": {},
   "source": [
    "# Volume 3: Pandas 3 (Grouping)\n",
    "    <Name>\n",
    "    <Class>\n",
    "    <Date>"
   ]
  },
  {
   "cell_type": "code",
   "execution_count": null,
   "metadata": {},
   "outputs": [],
   "source": [
    "import numpy as np\n",
    "import pandas as pd\n",
    "from matplotlib import pyplot as plt\n",
    "%matplotlib inline"
   ]
  },
  {
   "cell_type": "markdown",
   "metadata": {
    "collapsed": true
   },
   "source": [
    "## Problem 1\n",
    "\n",
    "The data *time_usage.txt* contains data on how Americans spend their time from 2007-2017.\n",
    "Read in the data as a DataFrame object and use groupby() to filter through the DataFrame and answer the following questions:\n",
    "\n",
    "1. How did the mean amount of time spent on all activities change over 2007 to 2017?\n",
    "\n",
    "2. On average (using the mean), did Americans spend more time doing exercise or watching TV  over the past ten years? What was the difference?\n",
    "\n",
    "(Hint: The column *Estimate* gives the amount of hours spent on an activity. The activity *Watching TV* contains data on Americans watching TV and the activity *Participating in Sports Exercise and Rec Activity* contains data on Americans exercising.)"
   ]
  },
  {
   "cell_type": "code",
   "execution_count": null,
   "metadata": {},
   "outputs": [],
   "source": []
  },
  {
   "cell_type": "markdown",
   "metadata": {},
   "source": [
    "## Problem 2\n",
    "\n",
    "Use the time usage data to answer the following questions. Support your claims with readable, labeled visualizations.\n",
    "\n",
    "1. In what activity did Americans spend most of their time in 2017?\n",
    "\n",
    "2. In what year did Watching TV increase the most? What about Volunteering?"
   ]
  },
  {
   "cell_type": "code",
   "execution_count": null,
   "metadata": {},
   "outputs": [],
   "source": []
  },
  {
   "cell_type": "markdown",
   "metadata": {},
   "source": [
    "## Problem 3\n",
    "\n",
    "The file *Ohio_1999.csv* contains data on workers in Ohio in the year 1999. Use pivot tables to answer the following questions:\n",
    "\n",
    "1. What was the highest paid race/sex combination? What was the lowest paid?\n",
    "\n",
    "2. What race/sex combination worked the least amount of hours? What from the data explains why?\n",
    "\n",
    "3. What race/sex combination works the most hours per week per person?\n",
    "\n",
    "Some useful keys for the information are:\n",
    "\n",
    "1. In column *Sex*, {1: male, 2: female}\n",
    "\n",
    "2. In column *Race*, {1: White, 2: African-American, 3: Native American/Eskimo, 4: Asian}"
   ]
  },
  {
   "cell_type": "code",
   "execution_count": null,
   "metadata": {},
   "outputs": [],
   "source": []
  },
  {
   "cell_type": "markdown",
   "metadata": {},
   "source": [
    "## Problem 4\n",
    "\n",
    "Use the employment data from Ohio in 1999 to answer the following questions:\n",
    "\n",
    "1. The column *Educational Attainment* contains numbers 0-46. Any number less than 39 means the person did not get any form of degree. 39-42 refers to either a high-school or associate's degree. A number greater than 43 means the person got at least a bachelor's degree. What is the most common degree among workers?\n",
    "\n",
    "2. Partition the *Age* column into 4 equally populated intervals. Which interval contains the most workers with no degree? A degree that is less than a bachelor's degree? A bachelor's degree or higher?\n",
    "\n",
    "3. What age/degree combination has the greatest yearly salary on average?"
   ]
  },
  {
   "cell_type": "code",
   "execution_count": null,
   "metadata": {},
   "outputs": [],
   "source": []
  },
  {
   "cell_type": "markdown",
   "metadata": {},
   "source": [
    "## Problem 5\n",
    "\n",
    "The *pydataset* contains a data set *iris*, which contains the measurements of various flower species.\n",
    "Use this data to answer the following questions:\n",
    "\n",
    "1. Which flower species is the easiest distinguish and why?\n",
    "\n",
    "2. What is the correlation between petal and sepal size for each species?"
   ]
  },
  {
   "cell_type": "code",
   "execution_count": null,
   "metadata": {},
   "outputs": [],
   "source": []
  }
 ],
 "metadata": {
  "kernelspec": {
   "display_name": "Python 3",
   "language": "python",
   "name": "python3"
  },
  "language_info": {
   "codemirror_mode": {
    "name": "ipython",
    "version": 3
   },
   "file_extension": ".py",
   "mimetype": "text/x-python",
   "name": "python",
   "nbconvert_exporter": "python",
   "pygments_lexer": "ipython3",
   "version": "3.6.4"
  }
 },
 "nbformat": 4,
 "nbformat_minor": 2
}
