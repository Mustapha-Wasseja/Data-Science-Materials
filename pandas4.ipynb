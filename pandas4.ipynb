{
 "cells": [
  {
   "cell_type": "markdown",
   "metadata": {},
   "source": [
    "# Volume 3: Pandas IV (Time Series)\n",
    "    <Name>\n",
    "    <Class>\n",
    "    <Date>"
   ]
  },
  {
   "cell_type": "code",
   "execution_count": 1,
   "metadata": {},
   "outputs": [],
   "source": [
    "import pandas as pd\n",
    "from matplotlib import pyplot as plt\n",
    "%matplotlib inline\n",
    "\n",
    "# Matplotlib customizations.\n",
    "# plt.style.use(\"ggplot\")                       # Use a different style.\n",
    "plt.rcParams[\"figure.figsize\"] = [10.0, 6.0]  # Make figures larger by default.\n",
    "plt.rcParams[\"figure.dpi\"] = 200              # Raise figure quality within the notebook.\n",
    "\n",
    "# Pandas customizations.\n",
    "pd.set_option(\"display.max_rows\", 250)        # Raise the number of rows displayed.\n",
    "pd.set_option(\"display.max_columns\", 50)      # Raise the number of columns displayed.\n",
    "pd.set_option(\"precision\", 3)                 # Truncate floats to 3 decimals in data frames."
   ]
  },
  {
   "cell_type": "markdown",
   "metadata": {},
   "source": [
    "## Problem 1\n",
    "The file *DJIA.csv* contains daily closing values of the Dow Jones Industrial Average from 2006–2016.\n",
    "Read the data into a Series or DataFrame with a *DatetimeIndex* as the index.\n",
    "Drop rows with missing values, cast the *VALUES* column to floats, then plot the data.\n",
    "(Hint: Use *lw=.5* to make the line thin enough for the data.)"
   ]
  },
  {
   "cell_type": "code",
   "execution_count": null,
   "metadata": {},
   "outputs": [],
   "source": []
  },
  {
   "cell_type": "markdown",
   "metadata": {},
   "source": [
    "## Problem 2\n",
    "\n",
    "The file *paychecks.csv* contains values of an hourly employee's last 93 paychecks.\n",
    "Paychecks are given on the first and third Fridays of each month, and the employee started working on March 13, 2008.\n",
    "Read in the data, using *pd.date_range()* to generate the DatetimeIndex.\n",
    "Plot the data.\n",
    "(Hint: use the *union()* method of *DatetimeIndex* class.)"
   ]
  },
  {
   "cell_type": "code",
   "execution_count": null,
   "metadata": {},
   "outputs": [],
   "source": []
  },
  {
   "cell_type": "markdown",
   "metadata": {},
   "source": [
    "## Problem 3\n",
    "\n",
    "The file *finances.csv* contains a list of simulated quarterly earnings and expense totals from a fictional company.\n",
    "Load the data into a Series or DataFrame with a *PeriodIndex* with a quarterly frequency.\n",
    "Assume the fiscal year starts at the beginning of September and that the data begins in September 1978.\n",
    "Plot the data."
   ]
  },
  {
   "cell_type": "code",
   "execution_count": null,
   "metadata": {},
   "outputs": [],
   "source": []
  },
  {
   "cell_type": "markdown",
   "metadata": {},
   "source": [
    "## Problem 4\n",
    "\n",
    "The file *website_traffic.csv* contains records for different visits to a fictitious website.\n",
    "Read in the data, calculate the duration of each visit in seconds and convert the index to a *DatetimeIndex*.\n",
    "Use downsampling to calculate the average visit duration by minute and the average visit duration by hour.\n",
    "Plot both results on the same graph."
   ]
  },
  {
   "cell_type": "code",
   "execution_count": null,
   "metadata": {},
   "outputs": [],
   "source": []
  },
  {
   "cell_type": "markdown",
   "metadata": {},
   "source": [
    "## Problem 5\n",
    "Compute the following information about the DJIA dataset from Problem 1.\n",
    "- The single day with the largest gain.\n",
    "- The single day with the largest loss.\n",
    "- The month with the largest gain.\n",
    "- The month with the largest loss.\n",
    "\n",
    "For the monthly statistics, define the gain (or loss) to be the difference between the DJIA on the last and first days of the month."
   ]
  },
  {
   "cell_type": "code",
   "execution_count": null,
   "metadata": {},
   "outputs": [],
   "source": []
  },
  {
   "cell_type": "markdown",
   "metadata": {},
   "source": [
    "## Problem 6\n",
    "\n",
    "Plot the following from the DJIA dataset with a window or span of 30, 120, and 365.\n",
    "- The original data points.\n",
    "- Rolling average.\n",
    "- Exponential average.\n",
    "- Minimum rolling values.\n",
    "- Maximum rolling values.\n",
    "\n",
    "Describe how varying the length of the window changes the approximation to the data."
   ]
  },
  {
   "cell_type": "code",
   "execution_count": null,
   "metadata": {},
   "outputs": [],
   "source": []
  }
 ],
 "metadata": {
  "kernelspec": {
   "display_name": "Python 3",
   "language": "python",
   "name": "python3"
  },
  "language_info": {
   "codemirror_mode": {
    "name": "ipython",
    "version": 3
   },
   "file_extension": ".py",
   "mimetype": "text/x-python",
   "name": "python",
   "nbconvert_exporter": "python",
   "pygments_lexer": "ipython3",
   "version": "3.6.4"
  }
 },
 "nbformat": 4,
 "nbformat_minor": 2
}
